{
 "cells": [
  {
   "cell_type": "code",
   "execution_count": null,
   "metadata": {
    "collapsed": true
   },
   "outputs": [],
   "source": [
    "2"
   ]
  },
  {
   "cell_type": "markdown",
   "metadata": {},
   "source": [
    "App names\n",
    "\n",
    "/html[@class='js no-touch svg no-oldie']/body[@id='free-apps']/div[@id='main']/section[@class='section apps chart-grid']/div[@class='section-content']/ul/li/h3/a\n",
    "\n",
    "----------\n",
    "\n",
    "All:\n",
    "//ul/li/h3/a/text()\n",
    "\n",
    "One:\n",
    "//ul/li[0]/h3/a/text()"
   ]
  },
  {
   "cell_type": "markdown",
   "metadata": {},
   "source": [
    "App categories\n",
    "\n",
    "/html[@class='js no-touch svg no-oldie']/body[@id='free-apps']/div[@id='main']/section[@class='section apps chart-grid']/div[@class='section-content']/ul/li/h4/a\n",
    "\n",
    "----------\n",
    "\n",
    "All:\n",
    "//ul/li/h4/a/text()\n",
    "\n",
    "One:\n",
    "//ul/li[0]/h4/a/text()"
   ]
  },
  {
   "cell_type": "markdown",
   "metadata": {},
   "source": [
    "App store link\n",
    "\n",
    "/html[@class='js no-touch svg no-oldie']/body[@id='free-apps']/div[@id='main']/section[@class='section apps chart-grid']/div[@class='section-content']/ul/li/a[@class='more']/@href\n",
    "\n",
    "----------\n",
    "\n",
    "All:\n",
    "//ul/li/a[@class='more']/@href\n",
    "\n",
    "One:\n",
    "//ul/li[0]/a[@class='more']/@href"
   ]
  },
  {
   "cell_type": "markdown",
   "metadata": {},
   "source": [
    "App src pic\n",
    "\n",
    "/html[@class='js no-touch svg no-oldie']/body[@id='free-apps']/div[@id='main']/section[@class='section apps chart-grid']/div[@class='section-content']/ul/li/a/img/@src\n",
    "\n",
    "----------\n",
    "\n",
    "All:\n",
    "//ul/li/a/img/@src\n",
    "\n",
    "One:\n",
    "//ul/li[0]/a/img/@src"
   ]
  },
  {
   "cell_type": "markdown",
   "metadata": {},
   "source": [
    "Num Ratings\n",
    "\n",
    "/html/body[@class='software geo-us ac-platter-content lang-en-us lang-en hd-device itunes-not-detected']/div[@id='main']/div[@id='desktopContentBlockId']/div[@id='content']/div[@class='padder']/div[@id='left-stack']/div[@class='extra-list customer-ratings']/div[@class='rating'][1]/span[@class='rating-count']/text()\n",
    "\n",
    "----------\n",
    "\n",
    "//div[@class='rating'][1]/span[@class='rating-count']/text()"
   ]
  },
  {
   "cell_type": "markdown",
   "metadata": {},
   "source": [
    "Ratings score\n",
    "\n",
    "//span[@itemprop='ratingValue']/text()"
   ]
  }
 ],
 "metadata": {
  "kernelspec": {
   "display_name": "Python 2",
   "language": "python",
   "name": "python2"
  },
  "language_info": {
   "codemirror_mode": {
    "name": "ipython",
    "version": 2
   },
   "file_extension": ".py",
   "mimetype": "text/x-python",
   "name": "python",
   "nbconvert_exporter": "python",
   "pygments_lexer": "ipython2",
   "version": "2.7.11"
  }
 },
 "nbformat": 4,
 "nbformat_minor": 0
}
